{
 "cells": [
  {
   "cell_type": "code",
   "execution_count": 35,
   "metadata": {},
   "outputs": [],
   "source": [
    "from bs4 import BeautifulSoup\n",
    "import pandas as pd"
   ]
  },
  {
   "cell_type": "code",
   "execution_count": 12,
   "metadata": {},
   "outputs": [],
   "source": [
    "#https://www.pkutrecht.nl/nl/home/\n",
    "with open(\"restaurant.html\") as f:\n",
    "    soup = BeautifulSoup(f, \"lxml\")\n"
   ]
  },
  {
   "cell_type": "code",
   "execution_count": 13,
   "metadata": {},
   "outputs": [],
   "source": [
    "title = soup.select(\"title\")[0].get_text()"
   ]
  },
  {
   "cell_type": "code",
   "execution_count": 14,
   "metadata": {},
   "outputs": [
    {
     "data": {
      "text/plain": [
       "'PK bar & kitchen Utrecht | Restaurant & Grand CafÃ©'"
      ]
     },
     "execution_count": 14,
     "metadata": {},
     "output_type": "execute_result"
    }
   ],
   "source": [
    "title"
   ]
  },
  {
   "cell_type": "code",
   "execution_count": 25,
   "metadata": {},
   "outputs": [],
   "source": [
    "review = soup.select(\".et_pb_text_inner h3\")"
   ]
  },
  {
   "cell_type": "code",
   "execution_count": 26,
   "metadata": {},
   "outputs": [
    {
     "data": {
      "text/plain": [
       "'PK â€“ BAR & KITCHEN UTRECHT IS EEN HEERLIJKE PLEK OM TE VERTOEVEN OP DIVERSE MOMENTEN; EEN BIERTJE MET VRIENDEN, BUSINESS LUNCH, ESPRESSO\\xa0MET HUISGEMAAKTE CHEESECAKE TIJDENS HET SHOPPEN OF EEN AVONDJE DINER VOOR 2.'"
      ]
     },
     "execution_count": 26,
     "metadata": {},
     "output_type": "execute_result"
    }
   ],
   "source": [
    "review[0].get_text()"
   ]
  },
  {
   "cell_type": "code",
   "execution_count": 27,
   "metadata": {},
   "outputs": [],
   "source": [
    "location = soup.select(\".et_pb_text_inner h1\")"
   ]
  },
  {
   "cell_type": "code",
   "execution_count": 29,
   "metadata": {},
   "outputs": [
    {
     "data": {
      "text/plain": [
       "'LOCATIE PK'"
      ]
     },
     "execution_count": 29,
     "metadata": {},
     "output_type": "execute_result"
    }
   ],
   "source": [
    "location[0].get_text()"
   ]
  },
  {
   "cell_type": "code",
   "execution_count": 59,
   "metadata": {},
   "outputs": [],
   "source": [
    "menu = soup.select(\".nav li\")"
   ]
  },
  {
   "cell_type": "code",
   "execution_count": 62,
   "metadata": {},
   "outputs": [],
   "source": [
    "menu_list = []\n",
    "for menu_item in menu:\n",
    "    item = menu_item.get_text().replace(\"\\n\", \" \").strip()\n",
    "    menu_list.append(item)\n"
   ]
  },
  {
   "cell_type": "code",
   "execution_count": 63,
   "metadata": {},
   "outputs": [
    {
     "data": {
      "text/plain": [
       "['Home',\n",
       " 'Eten & Drinken  Menu Kids',\n",
       " 'Menu',\n",
       " 'Kids',\n",
       " 'Groepen  Groepen Borrels & Feestjes',\n",
       " 'Groepen',\n",
       " 'Borrels & Feestjes',\n",
       " 'Events',\n",
       " 'Gallery',\n",
       " 'Reserveren',\n",
       " 'Contact & Openingstijden  Contact ons Online reserveren Openingstijden Vacatures',\n",
       " 'Contact ons',\n",
       " 'Online reserveren',\n",
       " 'Openingstijden',\n",
       " 'Vacatures',\n",
       " '']"
      ]
     },
     "execution_count": 63,
     "metadata": {},
     "output_type": "execute_result"
    }
   ],
   "source": [
    "menu_list"
   ]
  },
  {
   "cell_type": "code",
   "execution_count": 64,
   "metadata": {},
   "outputs": [],
   "source": [
    "df = pd.DataFrame(menu_list)"
   ]
  },
  {
   "cell_type": "code",
   "execution_count": 66,
   "metadata": {},
   "outputs": [],
   "source": [
    "df.to_csv(\"menu.csv\")"
   ]
  },
  {
   "cell_type": "code",
   "execution_count": null,
   "metadata": {},
   "outputs": [],
   "source": []
  }
 ],
 "metadata": {
  "kernelspec": {
   "display_name": "Python 3",
   "language": "python",
   "name": "python3"
  },
  "language_info": {
   "codemirror_mode": {
    "name": "ipython",
    "version": 3
   },
   "file_extension": ".py",
   "mimetype": "text/x-python",
   "name": "python",
   "nbconvert_exporter": "python",
   "pygments_lexer": "ipython3",
   "version": "3.6.5"
  }
 },
 "nbformat": 4,
 "nbformat_minor": 2
}
